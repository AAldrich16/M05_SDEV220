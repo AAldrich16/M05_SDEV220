{
 "cells": [
  {
   "cell_type": "code",
   "execution_count": 5,
   "metadata": {},
   "outputs": [
    {
     "name": "stdout",
     "output_type": "stream",
     "text": [
      "time.struct_time(tm_year=2023, tm_mon=4, tm_mday=18, tm_hour=0, tm_min=0, tm_sec=0, tm_wday=1, tm_yday=108, tm_isdst=-1)\n"
     ]
    }
   ],
   "source": [
    "# (13.1) today.txt file reads \"4/18/2023\"\n",
    "\n",
    "import time\n",
    "\n",
    "# get date from today.txt (13.2)\n",
    "with open('today.txt', 'r') as f:\n",
    "    today_string = f.read()\n",
    "\n",
    "# parse the date from string (13.3)\n",
    "parsed_date = time.strptime(today_string, '%m/%d/%Y')\n",
    "print(parsed_date)"
   ]
  },
  {
   "cell_type": "code",
   "execution_count": 16,
   "metadata": {},
   "outputs": [],
   "source": [
    "import multiprocessing\n",
    "import random\n",
    "import time\n",
    "import datetime\n",
    "\n",
    "## Function that gets random time and date\n",
    "def randomTimePrinter():\n",
    "    ## Gets wait time between 0, 1\n",
    "    wait_time = random.random()\n",
    "    ## Sleep for wait time\n",
    "    time.sleep(wait_time)\n",
    "    ## gets current time\n",
    "    current_time = datetime.datetime.now().strftime(\"%H:%M:%S.%f\")\n",
    "    ## Prints message\n",
    "    print(f\"Waited for {wait_time:.2f} seconds and current time is {current_time}\")\n",
    "\n",
    "\n",
    "if __name__ == \"__main__\":\n",
    "    processes = []\n",
    "    ## Sets max increment\n",
    "    num_processes = 3\n",
    "    for i in range(num_processes):\n",
    "        ## Creates process \n",
    "        p = multiprocessing.Process(target=randomTimePrinter)\n",
    "        ## starts process\n",
    "        p.start()\n",
    "    "
   ]
  }
 ],
 "metadata": {
  "kernelspec": {
   "display_name": "Python 3",
   "language": "python",
   "name": "python3"
  },
  "language_info": {
   "codemirror_mode": {
    "name": "ipython",
    "version": 3
   },
   "file_extension": ".py",
   "mimetype": "text/x-python",
   "name": "python",
   "nbconvert_exporter": "python",
   "pygments_lexer": "ipython3",
   "version": "3.11.2"
  },
  "orig_nbformat": 4
 },
 "nbformat": 4,
 "nbformat_minor": 2
}
